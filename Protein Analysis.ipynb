{
 "cells": [
  {
   "cell_type": "code",
   "execution_count": 3,
   "id": "e41f1f19",
   "metadata": {},
   "outputs": [
    {
     "data": {
      "application/vnd.jupyter.widget-view+json": {
       "model_id": "577c1705176f42ef81ef037bd3eb88c7",
       "version_major": 2,
       "version_minor": 0
      },
      "text/plain": [
       "HBox(children=(VBox(children=(Text(value='', description='Item Name:', layout=Layout(width='400px'), style=Tex…"
      ]
     },
     "metadata": {},
     "output_type": "display_data"
    },
    {
     "data": {
      "application/vnd.jupyter.widget-view+json": {
       "model_id": "b83654b3a095429eb9cfc1fda11d5630",
       "version_major": 2,
       "version_minor": 0
      },
      "text/plain": [
       "Button(description='Download CSV', style=ButtonStyle())"
      ]
     },
     "metadata": {},
     "output_type": "display_data"
    },
    {
     "data": {
      "application/vnd.jupyter.widget-view+json": {
       "model_id": "053dd4d8b6654e24b6a044b6e69dbdb6",
       "version_major": 2,
       "version_minor": 0
      },
      "text/plain": [
       "Output()"
      ]
     },
     "metadata": {},
     "output_type": "display_data"
    },
    {
     "data": {
      "application/vnd.jupyter.widget-view+json": {
       "model_id": "dbb4d5c171014a13b1a3c16f832f6633",
       "version_major": 2,
       "version_minor": 0
      },
      "text/plain": [
       "Output()"
      ]
     },
     "metadata": {},
     "output_type": "display_data"
    },
    {
     "data": {
      "application/vnd.jupyter.widget-view+json": {
       "model_id": "b7d4d6b28343495e8b8eb90bd92cbead",
       "version_major": 2,
       "version_minor": 0
      },
      "text/plain": [
       "Output()"
      ]
     },
     "metadata": {},
     "output_type": "display_data"
    },
    {
     "data": {
      "text/html": [
       "Click here to download: <a href='protein_and_fat_data.csv' target='_blank'>protein_and_fat_data.csv</a><br>"
      ],
      "text/plain": [
       "/home/jovyan/protein_and_fat_data.csv"
      ]
     },
     "metadata": {},
     "output_type": "display_data"
    }
   ],
   "source": [
    "import ipywidgets as widgets\n",
    "from IPython.display import display, HTML, FileLink\n",
    "import pandas as pd\n",
    "import os\n",
    "\n",
    "# CSV file name\n",
    "csv_file = \"protein_and_fat_data.csv\"\n",
    "\n",
    "# Load data from CSV file on startup\n",
    "def load_data_from_csv():\n",
    "    global protein_items, fat_source\n",
    "    if os.path.exists(csv_file):\n",
    "        df = pd.read_csv(csv_file)\n",
    "        # Sort the dataframe by 'cost_per_30g_protein'\n",
    "        df_sorted = df.sort_values(by='cost_per_30g_protein', ascending=True)\n",
    "\n",
    "        # Load protein items\n",
    "        protein_items = df_sorted[df_sorted['Type'] == 'Protein'].to_dict('records')\n",
    "\n",
    "        # Load fat source\n",
    "        fat_source = df_sorted[df_sorted['Type'] == 'Fat Source'].to_dict('records')[0] if not df_sorted[df_sorted['Type'] == 'Fat Source'].empty else None\n",
    "        \n",
    "        update_ranked_list()\n",
    "    else:\n",
    "        protein_items = []\n",
    "        fat_source = None\n",
    "\n",
    "# Save data to CSV file\n",
    "def save_data_to_csv():\n",
    "    protein_df = pd.DataFrame(protein_items)\n",
    "    fat_source_df = pd.DataFrame([fat_source]) if fat_source else pd.DataFrame()\n",
    "    \n",
    "    # Add 'Type' column to distinguish protein items from fat source\n",
    "    if not protein_df.empty:\n",
    "        protein_df['Type'] = 'Protein'\n",
    "    if not fat_source_df.empty:\n",
    "        fat_source_df['Type'] = 'Fat Source'\n",
    "    \n",
    "    # Combine both into one CSV file\n",
    "    combined_df = pd.concat([protein_df, fat_source_df], ignore_index=True)\n",
    "    \n",
    "    # Write to CSV\n",
    "    combined_df.to_csv(csv_file, index=False)\n",
    "\n",
    "# Function to calculate the cost for 30g of protein for a single item\n",
    "def cost_per_30g_protein(unit_price, unit_weight, serving_weight, protein_per_serving):\n",
    "    try:\n",
    "        cost = (30 * unit_price * serving_weight) / (protein_per_serving * unit_weight)\n",
    "        return cost\n",
    "    except ZeroDivisionError:\n",
    "        return float('inf')\n",
    "\n",
    "# Function to calculate the fat that comes with 30g of protein\n",
    "def fat_with_30g_protein(protein_per_serving, fat_per_serving, serving_weight):\n",
    "    try:\n",
    "        fat_per_gram_of_protein = fat_per_serving / protein_per_serving\n",
    "        fat_with_30g_protein = fat_per_gram_of_protein * 30\n",
    "        return fat_with_30g_protein\n",
    "    except ZeroDivisionError:\n",
    "        return 0\n",
    "\n",
    "# Function to calculate cost per gram of fat from the chosen fat source\n",
    "def cost_per_gram_of_fat(fat_price, fat_unit_weight, fat_serving_weight, fat_per_serving):\n",
    "    return fat_price / (fat_per_serving * (fat_unit_weight / fat_serving_weight))\n",
    "\n",
    "# Function to calculate the adjusted cost of 30g protein (accounting for fat savings)\n",
    "def adjusted_cost_of_30g_protein(cost_per_30g_protein, fat_with_30g_protein, cost_per_gram_fat):\n",
    "    return cost_per_30g_protein - (fat_with_30g_protein * cost_per_gram_fat)\n",
    "\n",
    "# Function to add a new protein item and update the rankings\n",
    "def add_protein_item(b):\n",
    "    name = name_input.value\n",
    "    seller_brand = seller_brand_input.value\n",
    "\n",
    "    try:\n",
    "        unit_price = float(price_input.value) if price_input.value else 0.0\n",
    "        unit_weight = float(weight_input.value) if weight_input.value else 0.0\n",
    "        serving_weight = float(serving_input.value) if serving_input.value else 0.0\n",
    "        protein_per_serving = float(protein_input.value) if protein_input.value else 0.0\n",
    "        fat_per_serving = float(fat_input.value) if fat_input.value else 0.0\n",
    "    except ValueError:\n",
    "        with ranked_output:\n",
    "            ranked_output.clear_output()\n",
    "            display(HTML(\"<b>Error: Please enter valid numerical values!</b>\"))\n",
    "        return\n",
    "\n",
    "    product_link = link_input.value\n",
    "    additional_notes = notes_input.value\n",
    "\n",
    "    cost_30g_protein = cost_per_30g_protein(unit_price, unit_weight, serving_weight, protein_per_serving)\n",
    "    fat_with_30g_protein_value = fat_with_30g_protein(protein_per_serving, fat_per_serving, serving_weight)\n",
    "\n",
    "    # Add the item as a dictionary to the list\n",
    "    item = {\n",
    "        'name': name,\n",
    "        'seller_brand': seller_brand,\n",
    "        'unit_price': unit_price,\n",
    "        'unit_weight': unit_weight,\n",
    "        'serving_weight': serving_weight,\n",
    "        'protein_per_serving': protein_per_serving,\n",
    "        'fat_per_serving': fat_per_serving,\n",
    "        'cost_per_30g_protein': cost_30g_protein,\n",
    "        'fat_with_30g_protein': fat_with_30g_protein_value,\n",
    "        'product_link': product_link,\n",
    "        'additional_notes': additional_notes\n",
    "    }\n",
    "    protein_items.append(item)\n",
    "\n",
    "    # Save data to CSV and update rankings\n",
    "    save_data_to_csv()\n",
    "    update_ranked_list()\n",
    "\n",
    "# Function to update the ranked list of items (both normal and adjusted)\n",
    "def update_ranked_list():\n",
    "    # Clear previous content\n",
    "    ranked_output.clear_output()\n",
    "    adjusted_ranked_output.clear_output()\n",
    "\n",
    "    # Sort the protein items by cost per 30g protein (ascending order)\n",
    "    protein_items.sort(key=lambda x: x['cost_per_30g_protein'])\n",
    "\n",
    "    # Display the first ranked list (normal cost per 30g protein)\n",
    "    with ranked_output:\n",
    "        display(HTML(\"<b>Ranked List of Items by Cost per 30g Protein (Cheapest to Most Expensive):</b>\"))\n",
    "        for i, item in enumerate(protein_items, start=1):\n",
    "            display(HTML(f\"{i}. {item['name']} - ${item['cost_per_30g_protein']:.2f} per 30g protein - \"\n",
    "                         f\"Seller/Brand: {item['seller_brand']} - \"\n",
    "                         f\"<a href='{item['product_link']}' target='_blank'>Link</a> - \"\n",
    "                         f\"Notes: {item['additional_notes']}\"))\n",
    "\n",
    "    # Display the second ranked list (adjusted cost per 30g protein considering fat savings)\n",
    "    if fat_source:\n",
    "        cost_per_gram_fat = cost_per_gram_of_fat(fat_source['fat_price'], fat_source['fat_unit_weight'], fat_source['fat_serving_weight'], fat_source['fat_per_serving'])\n",
    "        for item in protein_items:\n",
    "            item['adjusted_cost'] = adjusted_cost_of_30g_protein(item['cost_per_30g_protein'],\n",
    "                                                                 item['fat_with_30g_protein'],\n",
    "                                                                 cost_per_gram_fat)\n",
    "        # Sort by adjusted cost per 30g protein (ascending order)\n",
    "        protein_items.sort(key=lambda x: x['adjusted_cost'])\n",
    "\n",
    "        with adjusted_ranked_output:\n",
    "            display(HTML(\"<b>Ranked List of Items by Adjusted Cost (with fat savings, Cheapest to Most Expensive):</b>\"))\n",
    "            for i, item in enumerate(protein_items, start=1):\n",
    "                display(HTML(f\"{i}. {item['name']} - Adjusted Cost: ${item['adjusted_cost']:.2f} - \"\n",
    "                             f\"Seller/Brand: {item['seller_brand']} - \"\n",
    "                             f\"<a href='{item['product_link']}' target='_blank'>Link</a> - \"\n",
    "                             f\"Notes: {item['additional_notes']}\"))\n",
    "\n",
    "    # Save the rankings to the CSV file\n",
    "    save_data_to_csv()\n",
    "\n",
    "# Function to update the fat source (only one fat source at a time)\n",
    "def update_fat_source(b):\n",
    "    fat_name = fat_name_input.value\n",
    "    fat_seller = fat_seller_input.value\n",
    "\n",
    "    try:\n",
    "        fat_unit_weight = float(fat_unit_weight_input.value) if fat_unit_weight_input.value else 0.0\n",
    "        fat_serving_weight = float(fat_serving_weight_input.value) if fat_serving_weight_input.value else 0.0\n",
    "        fat_per_serving = float(fat_per_serving_input.value) if fat_per_serving_input.value else 0.0\n",
    "        fat_price = float(fat_price_input.value) if fat_price_input.value else 0.0\n",
    "    except ValueError:\n",
    "        with fat_output:\n",
    "            fat_output.clear_output()\n",
    "            display(HTML(\"<b>Error: Please enter valid numerical values!</b>\"))\n",
    "        return\n",
    "\n",
    "    fat_link = fat_link_input.value\n",
    "\n",
    "    global fat_source\n",
    "    fat_source = {\n",
    "        'fat_name': fat_name,\n",
    "        'fat_seller': fat_seller,\n",
    "        'fat_unit_weight': fat_unit_weight,\n",
    "        'fat_serving_weight': fat_serving_weight,\n",
    "        'fat_per_serving': fat_per_serving,\n",
    "        'fat_price': fat_price,\n",
    "        'fat_link': fat_link\n",
    "    }\n",
    "\n",
    "    # Update the fat output area\n",
    "    with fat_output:\n",
    "        fat_output.clear_output()\n",
    "        display(HTML(f\"<b>Current Fat Source:</b> {fat_name} - Seller: {fat_seller} - \"\n",
    "                     f\"<a href='{fat_link}' target='_blank'>Link</a> - \"\n",
    "                     f\"Cost per Gram of Fat: ${cost_per_gram_of_fat(fat_price, fat_unit_weight, fat_serving_weight, fat_per_serving):.2f}\"))\n",
    "\n",
    "    # Save data to CSV and update rankings\n",
    "    save_data_to_csv()\n",
    "    update_ranked_list()\n",
    "\n",
    "# Function to download the CSV file to the user's local device\n",
    "def download_csv_file(b):\n",
    "    display(FileLink(csv_file, result_html_prefix=\"Click here to download: \"))\n",
    "\n",
    "# Initialize the lists for protein items and fat source\n",
    "protein_items = []\n",
    "fat_source = None\n",
    "\n",
    "# Input fields for protein items (same as your original code, no changes here)\n",
    "# Input fields for fat source (same as your original code, no changes here)\n",
    "\n",
    "# Create HBox containers for protein and fat inputs to display them side by side\n",
    "protein_input_box = widgets.VBox([name_input, seller_brand_input, price_input, weight_input, serving_input, protein_input, fat_input, link_input, notes_input, add_button])\n",
    "fat_input_box = widgets.VBox([fat_name_input, fat_seller_input, fat_unit_weight_input, fat_serving_weight_input, fat_per_serving_input, fat_price_input, fat_link_input, update_fat_button])\n",
    "\n",
    "# Display protein and fat input fields side by side\n",
    "input_boxes = widgets.HBox([protein_input_box, fat_input_box])\n",
    "\n",
    "# Output areas for ranked lists and fat source information\n",
    "ranked_output = widgets.Output()\n",
    "adjusted_ranked_output = widgets.Output()\n",
    "fat_output = widgets.Output()\n",
    "\n",
    "# Display the input boxes and outputs\n",
    "display(input_boxes, download_csv_button)\n",
    "display(ranked_output, adjusted_ranked_output, fat_output)\n",
    "\n",
    "# Load data from CSV on startup\n",
    "load_data_from_csv()\n",
    "\n"
   ]
  }
 ],
 "metadata": {
  "kernelspec": {
   "display_name": "Python 3 (ipykernel)",
   "language": "python",
   "name": "python3"
  },
  "language_info": {
   "codemirror_mode": {
    "name": "ipython",
    "version": 3
   },
   "file_extension": ".py",
   "mimetype": "text/x-python",
   "name": "python",
   "nbconvert_exporter": "python",
   "pygments_lexer": "ipython3",
   "version": "3.11.6"
  }
 },
 "nbformat": 4,
 "nbformat_minor": 5
}
